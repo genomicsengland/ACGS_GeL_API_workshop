{
 "cells": [
  {
   "cell_type": "markdown",
   "metadata": {},
   "source": [
    "# Workshop for programatically creating Exit Questionnaire payloads and sending to the CIP API"
   ]
  },
  {
   "cell_type": "markdown",
   "metadata": {},
   "source": [
    "## Documentation for Gel Report Models is available: http://gelreportmodels.genomicsengland.co.uk"
   ]
  },
  {
   "cell_type": "markdown",
   "metadata": {},
   "source": [
    "### We are specifically interested in the Version 3 Rare Disease Exit Questionnaire: http://gelreportmodels.genomicsengland.co.uk/html_schemas/org.gel.models.report.avro/3.0.0/ExitQuestionnaire.html#/schema/org.gel.models.report.avro.RareDiseaseExitQuestionnaire"
   ]
  },
  {
   "cell_type": "markdown",
   "metadata": {},
   "source": [
    "### Generating an Exit Questionnaire"
   ]
  },
  {
   "cell_type": "code",
   "execution_count": 1,
   "metadata": {},
   "outputs": [],
   "source": [
    "from protocols.reports_3_0_0 import RareDiseaseExitQuestionnaire as EQ"
   ]
  },
  {
   "cell_type": "code",
   "execution_count": 2,
   "metadata": {},
   "outputs": [],
   "source": [
    "eq = EQ()"
   ]
  },
  {
   "cell_type": "markdown",
   "metadata": {},
   "source": [
    "The `toJsonDict` method allows us to inspect a json representation of what the object contains"
   ]
  },
  {
   "cell_type": "code",
   "execution_count": 3,
   "metadata": {},
   "outputs": [
    {
     "name": "stdout",
     "output_type": "stream",
     "text": [
      "{u'eventDate': None,\n",
      " u'familyLevelQuestions': {u'additionalComments': None,\n",
      "                           u'caseSolvedFamily': None,\n",
      "                           u'segregationQuestion': None},\n",
      " u'reporter': None,\n",
      " u'variantGroupLevelQuestions': None}\n"
     ]
    }
   ],
   "source": [
    "from pprint import pprint\n",
    "pprint(eq.toJsonDict())"
   ]
  },
  {
   "cell_type": "markdown",
   "metadata": {},
   "source": [
    "Passing this json to the `validate` method performs schema validation on the object"
   ]
  },
  {
   "cell_type": "code",
   "execution_count": 4,
   "metadata": {},
   "outputs": [
    {
     "data": {
      "text/plain": [
       "False"
      ]
     },
     "execution_count": 4,
     "metadata": {},
     "output_type": "execute_result"
    }
   ],
   "source": [
    "eq.validate(eq.toJsonDict())"
   ]
  },
  {
   "cell_type": "markdown",
   "metadata": {},
   "source": [
    "This tells us that `eq` is not a valid version 3 `RareDiseaseExitQuestionnaire` object"
   ]
  },
  {
   "cell_type": "markdown",
   "metadata": {},
   "source": [
    "Passing `verbose=True` to the method returns a list of messages that describe what is invalid about the object"
   ]
  },
  {
   "cell_type": "code",
   "execution_count": 5,
   "metadata": {},
   "outputs": [
    {
     "data": {
      "text/plain": [
       "u'Class: [RareDiseaseExitQuestionnaire] expects field: [eventDate] with schema type: [\"string\"] but received value: [None]'"
      ]
     },
     "execution_count": 5,
     "metadata": {},
     "output_type": "execute_result"
    }
   ],
   "source": [
    "eq.validate(eq.toJsonDict(), verbose=True).messages[1]"
   ]
  },
  {
   "cell_type": "code",
   "execution_count": 6,
   "metadata": {},
   "outputs": [],
   "source": [
    "eq.eventDate = \"2018-07-16\""
   ]
  },
  {
   "cell_type": "code",
   "execution_count": 7,
   "metadata": {},
   "outputs": [
    {
     "data": {
      "text/plain": [
       "u'Class: [RareDiseaseExitQuestionnaire] expects field: [reporter] with schema type: [\"string\"] but received value: [None]'"
      ]
     },
     "execution_count": 7,
     "metadata": {},
     "output_type": "execute_result"
    }
   ],
   "source": [
    "eq.validate(eq.toJsonDict(), verbose=True).messages[1]"
   ]
  },
  {
   "cell_type": "code",
   "execution_count": 8,
   "metadata": {},
   "outputs": [],
   "source": [
    "eq.reporter = \"Greg Lever\""
   ]
  },
  {
   "cell_type": "code",
   "execution_count": 9,
   "metadata": {},
   "outputs": [
    {
     "data": {
      "text/plain": [
       "u'Class: [FamilyLevelQuestions] expects field: [caseSolvedFamily] with schema type: [{\"symbols\": [\"yes\", \"no\", \"partially\", \"unknown\"], \"namespace\": \"org.gel.models.report.avro\", \"type\": \"enum\", \"name\": \"CaseSolvedFamily\"}] but received value: [None]'"
      ]
     },
     "execution_count": 9,
     "metadata": {},
     "output_type": "execute_result"
    }
   ],
   "source": [
    "eq.validate(eq.toJsonDict(), verbose=True).messages[2]"
   ]
  },
  {
   "cell_type": "markdown",
   "metadata": {},
   "source": [
    "This tells us that the `famileLevelQuestions` field has it's own class. Documentation for it can be seen here:"
   ]
  },
  {
   "cell_type": "markdown",
   "metadata": {},
   "source": [
    "http://gelreportmodels.genomicsengland.co.uk/html_schemas/org.gel.models.report.avro/3.0.0/ExitQuestionnaire.html#/schema/org.gel.models.report.avro.FamilyLevelQuestions"
   ]
  },
  {
   "cell_type": "markdown",
   "metadata": {},
   "source": [
    "And can be constructed like so:"
   ]
  },
  {
   "cell_type": "code",
   "execution_count": 10,
   "metadata": {},
   "outputs": [],
   "source": [
    "from protocols.reports_3_0_0 import FamilyLevelQuestions as FLQs"
   ]
  },
  {
   "cell_type": "code",
   "execution_count": 11,
   "metadata": {},
   "outputs": [],
   "source": [
    "flqs = FLQs()"
   ]
  },
  {
   "cell_type": "code",
   "execution_count": 12,
   "metadata": {},
   "outputs": [
    {
     "data": {
      "text/plain": [
       "u'Class: [FamilyLevelQuestions] expects field: [caseSolvedFamily] with schema type: [{\"symbols\": [\"yes\", \"no\", \"partially\", \"unknown\"], \"namespace\": \"org.gel.models.report.avro\", \"type\": \"enum\", \"name\": \"CaseSolvedFamily\"}] but received value: [None]'"
      ]
     },
     "execution_count": 12,
     "metadata": {},
     "output_type": "execute_result"
    }
   ],
   "source": [
    "flqs.validate(flqs.toJsonDict(), verbose=True).messages[2]"
   ]
  },
  {
   "cell_type": "code",
   "execution_count": 13,
   "metadata": {},
   "outputs": [],
   "source": [
    "flqs.caseSolvedFamily = \"no\""
   ]
  },
  {
   "cell_type": "code",
   "execution_count": 14,
   "metadata": {},
   "outputs": [
    {
     "data": {
      "text/plain": [
       "u'Class: [FamilyLevelQuestions] expects field: [segregationQuestion] with schema type: [{\"symbols\": [\"yes\", \"no\"], \"namespace\": \"org.gel.models.report.avro\", \"type\": \"enum\", \"name\": \"SegregationQuestion\"}] but received value: [None]'"
      ]
     },
     "execution_count": 14,
     "metadata": {},
     "output_type": "execute_result"
    }
   ],
   "source": [
    "flqs.validate(flqs.toJsonDict(), verbose=True).messages[2]"
   ]
  },
  {
   "cell_type": "code",
   "execution_count": 15,
   "metadata": {},
   "outputs": [],
   "source": [
    "flqs.segregationQuestion = \"no\""
   ]
  },
  {
   "cell_type": "code",
   "execution_count": 17,
   "metadata": {},
   "outputs": [
    {
     "data": {
      "text/plain": [
       "u'Class: [FamilyLevelQuestions] expects field: [additionalComments] with schema type: [\"string\"] but received value: [None]'"
      ]
     },
     "execution_count": 17,
     "metadata": {},
     "output_type": "execute_result"
    }
   ],
   "source": [
    "flqs.validate(flqs.toJsonDict(), verbose=True).messages[1]"
   ]
  },
  {
   "cell_type": "code",
   "execution_count": 18,
   "metadata": {},
   "outputs": [],
   "source": [
    "flqs.additionalComments = \"\""
   ]
  },
  {
   "cell_type": "code",
   "execution_count": 19,
   "metadata": {},
   "outputs": [
    {
     "data": {
      "text/plain": [
       "True"
      ]
     },
     "execution_count": 19,
     "metadata": {},
     "output_type": "execute_result"
    }
   ],
   "source": [
    "flqs.validate(flqs.toJsonDict(), verbose=True).result"
   ]
  },
  {
   "cell_type": "markdown",
   "metadata": {},
   "source": [
    "Now that we have a valid `FamilyLevelQuestions` object we can assign it to the `familyLevelQuestions` field of the `RareDiseaseExitQuestionnaire`"
   ]
  },
  {
   "cell_type": "code",
   "execution_count": 20,
   "metadata": {},
   "outputs": [],
   "source": [
    "eq.familyLevelQuestions = flqs"
   ]
  },
  {
   "cell_type": "code",
   "execution_count": null,
   "metadata": {},
   "outputs": [],
   "source": [
    "eq.validate(eq.toJsonDict())"
   ]
  },
  {
   "cell_type": "code",
   "execution_count": 21,
   "metadata": {},
   "outputs": [
    {
     "data": {
      "text/plain": [
       "False"
      ]
     },
     "execution_count": 21,
     "metadata": {},
     "output_type": "execute_result"
    }
   ],
   "source": [
    "eq.validate(eq.toJsonDict(), verbose=True).result"
   ]
  },
  {
   "cell_type": "markdown",
   "metadata": {},
   "source": [
    "We are specifically dealing with negative cases here so `variantGroupLevelQuestions` can be an empty list"
   ]
  },
  {
   "cell_type": "code",
   "execution_count": 22,
   "metadata": {},
   "outputs": [],
   "source": [
    "eq.variantGroupLevelQuestions = []"
   ]
  },
  {
   "cell_type": "code",
   "execution_count": 23,
   "metadata": {},
   "outputs": [
    {
     "data": {
      "text/plain": [
       "True"
      ]
     },
     "execution_count": 23,
     "metadata": {},
     "output_type": "execute_result"
    }
   ],
   "source": [
    "eq.validate(eq.toJsonDict(), verbose=True).result"
   ]
  },
  {
   "cell_type": "markdown",
   "metadata": {},
   "source": [
    "In the future when we will want to programatically send positive cases, the Variant Group Level Questions model is documented here: http://gelreportmodels.genomicsengland.co.uk/html_schemas/org.gel.models.report.avro/3.0.0/ExitQuestionnaire.html#/schema/schemas%2FAVPRs%2Fbuild%2FExitQuestionnaire.avpr/org.gel.models.report.avro.VariantGroupLevelQuestions"
   ]
  },
  {
   "cell_type": "markdown",
   "metadata": {},
   "source": [
    "The objects can also be instantiated in this way:"
   ]
  },
  {
   "cell_type": "code",
   "execution_count": null,
   "metadata": {},
   "outputs": [],
   "source": [
    "from protocols.reports_3_0_0 import RareDiseaseExitQuestionnaire as EQ\n",
    "from protocols.reports_3_0_0 import FamilyLevelQuestions as FLQs\n",
    "\n",
    "flqs = FLQs(\n",
    "    caseSolvedFamily = \"no\",\n",
    "    segregationQuestion = \"no\",\n",
    "    additionalComments = \"\",\n",
    ")\n",
    "eq = EQ(\n",
    "    eventDate=\"2018-07-16\",\n",
    "    reporter=\"Greg Lever\",\n",
    "    familyLevelQuestions=flqs,\n",
    "    variantGroupLevelQuestions=[],\n",
    ")"
   ]
  },
  {
   "cell_type": "code",
   "execution_count": 24,
   "metadata": {},
   "outputs": [
    {
     "data": {
      "text/plain": [
       "True"
      ]
     },
     "execution_count": 24,
     "metadata": {},
     "output_type": "execute_result"
    }
   ],
   "source": [
    "eq.validate(eq.toJsonDict())"
   ]
  },
  {
   "cell_type": "code",
   "execution_count": 25,
   "metadata": {},
   "outputs": [
    {
     "name": "stdout",
     "output_type": "stream",
     "text": [
      "{u'eventDate': '2018-07-16',\n",
      " u'familyLevelQuestions': {u'additionalComments': '',\n",
      "                           u'caseSolvedFamily': 'no',\n",
      "                           u'segregationQuestion': 'no'},\n",
      " u'reporter': 'Greg Lever',\n",
      " u'variantGroupLevelQuestions': []}\n"
     ]
    }
   ],
   "source": [
    "pprint(eq.toJsonDict())"
   ]
  },
  {
   "cell_type": "markdown",
   "metadata": {},
   "source": [
    "### Now the Exit Questionnaire payload is ready to be sent to the CIP API"
   ]
  },
  {
   "cell_type": "markdown",
   "metadata": {},
   "source": [
    "`get_authenticated_header` is a simple method for authenticating your credentials with the CIP API, which will return you authenticated headers to supply with your HTTP requests."
   ]
  },
  {
   "cell_type": "code",
   "execution_count": 28,
   "metadata": {},
   "outputs": [],
   "source": [
    "import os\n",
    "import requests\n",
    "\n",
    "\n",
    "def get_authenticated_header(url, username):\n",
    "    \n",
    "    url += \"{endpoint}\"\n",
    "    auth_endpoint = \"get-token/\"\n",
    "    import getpass\n",
    "    password = getpass.getpass()\n",
    "\n",
    "    irl_response = requests.post(\n",
    "        url=url.format(endpoint=auth_endpoint),\n",
    "        json=dict(\n",
    "            username=username,\n",
    "            password=password,\n",
    "        ),\n",
    "    )\n",
    "    irl_response_json = irl_response.json()\n",
    "    token = irl_response_json.get('token')\n",
    "\n",
    "    auth_header = {\n",
    "        'Accept': 'application/json',\n",
    "        \"Authorization\": \"JWT {token}\".format(token=token),\n",
    "    }\n",
    "    return auth_header"
   ]
  },
  {
   "cell_type": "markdown",
   "metadata": {},
   "source": [
    "You will be prompted to enter your CIP API password here"
   ]
  },
  {
   "cell_type": "code",
   "execution_count": 29,
   "metadata": {},
   "outputs": [
    {
     "name": "stdout",
     "output_type": "stream",
     "text": [
      "········\n"
     ]
    }
   ],
   "source": [
    "import requests\n",
    "cip_api_url = \"https://cipapi-test-tng.gel.zone/api/2/\"\n",
    "auth_header = get_authenticated_header(url=cip_api_url, username=\"glever\")"
   ]
  },
  {
   "cell_type": "markdown",
   "metadata": {},
   "source": [
    "I have a case in mind, with ID 2 and version 2"
   ]
  },
  {
   "cell_type": "code",
   "execution_count": 33,
   "metadata": {},
   "outputs": [
    {
     "name": "stdout",
     "output_type": "stream",
     "text": [
      "https://cipapi-test-tng.gel.zone/api/2/interpretation-request/2/2/\n"
     ]
    }
   ],
   "source": [
    "\"\"\"\n",
    "GET /api/2/interpretation-request/{ir_id}/{ir_version}/ \n",
    "\"\"\"\n",
    "endpoint = \"interpretation-request/{ir_id}/{ir_version}/\".format(\n",
    "        ir_id=2, ir_version=2,\n",
    ")\n",
    "url = cip_api_url + endpoint\n",
    "print url"
   ]
  },
  {
   "cell_type": "code",
   "execution_count": 34,
   "metadata": {},
   "outputs": [],
   "source": [
    "response = requests.get(url=url, headers=auth_header)"
   ]
  },
  {
   "cell_type": "code",
   "execution_count": 35,
   "metadata": {},
   "outputs": [
    {
     "data": {
      "text/plain": [
       "200"
      ]
     },
     "execution_count": 35,
     "metadata": {},
     "output_type": "execute_result"
    }
   ],
   "source": [
    "response.status_code"
   ]
  },
  {
   "cell_type": "code",
   "execution_count": 36,
   "metadata": {},
   "outputs": [
    {
     "data": {
      "text/plain": [
       "[u'files',\n",
       " u'number_of_samples',\n",
       " u'version',\n",
       " u'gel_tiering_qc_outcome',\n",
       " u'clinical_report',\n",
       " u'family_id',\n",
       " u'labkey_links',\n",
       " u'sample_type',\n",
       " u'proband',\n",
       " u'status',\n",
       " u'case_priority',\n",
       " u'assembly',\n",
       " u'tags',\n",
       " u'cva_variants_status',\n",
       " u'case_id',\n",
       " u'last_status',\n",
       " u'interpretation_request_data',\n",
       " u'cva_variants_transaction_id',\n",
       " u'created_at',\n",
       " u'interpretation_request_id',\n",
       " u'cohort_id',\n",
       " u'cip',\n",
       " u'interpreted_genome']"
      ]
     },
     "execution_count": 36,
     "metadata": {},
     "output_type": "execute_result"
    }
   ],
   "source": [
    "response.json().keys()"
   ]
  },
  {
   "cell_type": "markdown",
   "metadata": {},
   "source": [
    "The data returned in the interpretation_request_data.json_request corresponds with the Interpretation Request GelReportModels model and an object could be created using that data accordingly. "
   ]
  },
  {
   "cell_type": "code",
   "execution_count": 37,
   "metadata": {},
   "outputs": [
    {
     "data": {
      "text/plain": [
       "1"
      ]
     },
     "execution_count": 37,
     "metadata": {},
     "output_type": "execute_result"
    }
   ],
   "source": [
    "len(response.json().get(\"clinical_report\"))"
   ]
  },
  {
   "cell_type": "markdown",
   "metadata": {},
   "source": [
    "This part of the json response contains one item per each summary of findings. Therefore we know the latest summary of findings for this case is version 1"
   ]
  },
  {
   "cell_type": "code",
   "execution_count": 38,
   "metadata": {},
   "outputs": [
    {
     "name": "stdout",
     "output_type": "stream",
     "text": [
      "https://cipapi-test-tng.gel.zone/api/2/exit-questionnaire/2/2/1/\n"
     ]
    }
   ],
   "source": [
    "\"\"\"\n",
    "PUT /api/2/exit-questionnaire/{ir_id}/{ir_version}/{clinical_report_version}/ \n",
    "\"\"\"\n",
    "endpoint = \"exit-questionnaire/{ir_id}/{ir_version}/{clinical_report_version}/\".format(\n",
    "        ir_id=2, ir_version=2, clinical_report_version=1\n",
    ")\n",
    "url = cip_api_url + endpoint\n",
    "print url"
   ]
  },
  {
   "cell_type": "markdown",
   "metadata": {},
   "source": [
    "We now want to PUT the Exit Questionnaire json payload"
   ]
  },
  {
   "cell_type": "code",
   "execution_count": 39,
   "metadata": {},
   "outputs": [],
   "source": [
    "response = requests.put(url=url, headers=auth_header, json=eq.toJsonDict())"
   ]
  },
  {
   "cell_type": "markdown",
   "metadata": {},
   "source": [
    "A 200 response will be returned if successful  and the content of the response will show the data we sent, along with metadata concering the user who made the request and when they did so. "
   ]
  },
  {
   "cell_type": "code",
   "execution_count": 40,
   "metadata": {},
   "outputs": [
    {
     "data": {
      "text/plain": [
       "200"
      ]
     },
     "execution_count": 40,
     "metadata": {},
     "output_type": "execute_result"
    }
   ],
   "source": [
    "response.status_code"
   ]
  },
  {
   "cell_type": "code",
   "execution_count": 41,
   "metadata": {},
   "outputs": [
    {
     "data": {
      "text/plain": [
       "'{\"exit_questionnaire_data\":{\"familyLevelQuestions\":{\"caseSolvedFamily\":\"no\",\"segregationQuestion\":\"no\",\"additionalComments\":\"\"},\"reporter\":\"glever\",\"eventDate\":\"2018-07-16\",\"variantGroupLevelQuestions\":[]},\"user\":\"glever\",\"created_at\":\"2018-07-16T08:27:38.877131Z\",\"cva_status\":\"not_sent\",\"cva_transaction_id\":0}'"
      ]
     },
     "execution_count": 41,
     "metadata": {},
     "output_type": "execute_result"
    }
   ],
   "source": [
    "response.content"
   ]
  },
  {
   "cell_type": "code",
   "execution_count": null,
   "metadata": {},
   "outputs": [],
   "source": []
  },
  {
   "cell_type": "code",
   "execution_count": null,
   "metadata": {},
   "outputs": [],
   "source": []
  },
  {
   "cell_type": "code",
   "execution_count": null,
   "metadata": {},
   "outputs": [],
   "source": []
  },
  {
   "cell_type": "code",
   "execution_count": null,
   "metadata": {},
   "outputs": [],
   "source": []
  },
  {
   "cell_type": "code",
   "execution_count": null,
   "metadata": {},
   "outputs": [],
   "source": []
  },
  {
   "cell_type": "code",
   "execution_count": null,
   "metadata": {},
   "outputs": [],
   "source": []
  },
  {
   "cell_type": "code",
   "execution_count": null,
   "metadata": {},
   "outputs": [],
   "source": []
  },
  {
   "cell_type": "code",
   "execution_count": null,
   "metadata": {},
   "outputs": [],
   "source": []
  },
  {
   "cell_type": "code",
   "execution_count": null,
   "metadata": {},
   "outputs": [],
   "source": []
  },
  {
   "cell_type": "code",
   "execution_count": null,
   "metadata": {},
   "outputs": [],
   "source": []
  },
  {
   "cell_type": "code",
   "execution_count": null,
   "metadata": {},
   "outputs": [],
   "source": []
  },
  {
   "cell_type": "code",
   "execution_count": null,
   "metadata": {},
   "outputs": [],
   "source": []
  },
  {
   "cell_type": "code",
   "execution_count": null,
   "metadata": {},
   "outputs": [],
   "source": []
  },
  {
   "cell_type": "code",
   "execution_count": null,
   "metadata": {},
   "outputs": [],
   "source": [
    "\n"
   ]
  },
  {
   "cell_type": "code",
   "execution_count": null,
   "metadata": {},
   "outputs": [],
   "source": []
  }
 ],
 "metadata": {
  "kernelspec": {
   "display_name": "Python 2",
   "language": "python",
   "name": "python2"
  },
  "language_info": {
   "codemirror_mode": {
    "name": "ipython",
    "version": 2
   },
   "file_extension": ".py",
   "mimetype": "text/x-python",
   "name": "python",
   "nbconvert_exporter": "python",
   "pygments_lexer": "ipython2",
   "version": "2.7.12"
  }
 },
 "nbformat": 4,
 "nbformat_minor": 2
}
